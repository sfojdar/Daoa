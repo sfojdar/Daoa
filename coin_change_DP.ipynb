{
 "cells": [
  {
   "cell_type": "code",
   "execution_count": 36,
   "metadata": {},
   "outputs": [
    {
     "name": "stdout",
     "output_type": "stream",
     "text": [
      "Number of coins required to make sum 8 from denominations [1, 4, 6] = 2 \n",
      "\n",
      "Table of coins: \n",
      "[[0 0 0 0 0 0 0 0 0]\n",
      " [0 1 2 3 4 5 6 7 8]\n",
      " [0 1 2 3 1 2 3 4 2]\n",
      " [0 1 2 3 1 2 1 2 2]] \n",
      "\n",
      "Solution set: [4, 4]\n"
     ]
    }
   ],
   "source": [
    "import numpy as np\n",
    "def coinChange(S, sum):\n",
    "\n",
    "    dp = [[0 for _ in range(sum + 1)] for _ in range(len(S)+1)]\n",
    "\n",
    "    for i in range(1, len(S) + 1):\n",
    "        for j in range(1, sum + 1):\n",
    "            dp[i][j] = float('inf')\n",
    "\n",
    "            if j < S[i-1]:\n",
    "                dp[i][j] = dp[i - 1][j]\n",
    "            elif i==j or i==1:\n",
    "                dp[i][j] = 1 + dp[i][j - S[i-1]]\n",
    "            else:\n",
    "                dp[i][j] = min(dp[i - 1][j], 1 + dp[i][j - S[i-1]])\n",
    "\n",
    "\n",
    "    return dp\n",
    "\n",
    "def coins_used(S, dp):\n",
    "    i = dp.shape[0] - 1\n",
    "    j = dp.shape[1] - 1\n",
    "    solution_set = []\n",
    "    while j > 0:\n",
    "        if dp[i][j] == dp[i - 1][j]:\n",
    "            i -= 1\n",
    "        else:\n",
    "            solution_set.append(S[i-1])\n",
    "            j -= S[i - 1]\n",
    "\n",
    "    return solution_set\n",
    "\n",
    "S = [1, 4, 6]\n",
    "sum = 8\n",
    "dp = coinChange(S, sum)\n",
    "dp = np.array(dp)\n",
    "print(f'Number of coins required to make sum {sum} from denominations {S} = {dp[-1][-1]} \\n')\n",
    "\n",
    "print(f'Table of coins: \\n{dp} \\n')\n",
    "\n",
    "solution_set = coins_used(S, dp)\n",
    "print(f'Solution set: {solution_set}')"
   ]
  }
 ],
 "metadata": {
  "interpreter": {
   "hash": "668639ee5e0b6b60edf9bd86e4028f528ab375708257679c0335b842cd428d7b"
  },
  "kernelspec": {
   "display_name": "Python 3.9.7 ('base')",
   "language": "python",
   "name": "python3"
  },
  "language_info": {
   "codemirror_mode": {
    "name": "ipython",
    "version": 3
   },
   "file_extension": ".py",
   "mimetype": "text/x-python",
   "name": "python",
   "nbconvert_exporter": "python",
   "pygments_lexer": "ipython3",
   "version": "3.9.7"
  },
  "orig_nbformat": 4
 },
 "nbformat": 4,
 "nbformat_minor": 2
}
